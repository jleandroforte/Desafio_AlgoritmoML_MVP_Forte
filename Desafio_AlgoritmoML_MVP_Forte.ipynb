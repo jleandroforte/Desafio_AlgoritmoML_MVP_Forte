{
  "nbformat": 4,
  "nbformat_minor": 0,
  "metadata": {
    "colab": {
      "private_outputs": true,
      "provenance": [],
      "authorship_tag": "ABX9TyPJ7XW6RDP6vNe4qizpPZ/t",
      "include_colab_link": true
    },
    "kernelspec": {
      "name": "python3",
      "display_name": "Python 3"
    },
    "language_info": {
      "name": "python"
    }
  },
  "cells": [
    {
      "cell_type": "markdown",
      "metadata": {
        "id": "view-in-github",
        "colab_type": "text"
      },
      "source": [
        "<a href=\"https://colab.research.google.com/github/jleandroforte/Desafio_AlgoritmoML_MVP_Forte/blob/main/Desafio_AlgoritmoML_MVP_Forte.ipynb\" target=\"_parent\"><img src=\"https://colab.research.google.com/assets/colab-badge.svg\" alt=\"Open In Colab\"/></a>"
      ]
    },
    {
      "cell_type": "markdown",
      "source": [
        "#**Introduccion**\n",
        "\n",
        "El dataset con el que vamos a trabajar recopila datos de ventas y actividad de los clientes en el sitio web de una farmacia online a lo largo de 90 días.\n",
        "\n",
        "Tenemos información sobre varias características de los productos que serán detalladas en secciones siguientes, sus precios, los precios de la competencia y comportamiento de los clientes, si hacen click en un producto, si los colocan en una canasta de productos y finalmente si compran un producto. Nótese que no todas las líneas representan ventas.\n",
        "\n",
        "La clave del dataset es que la farmacia sigue una política de 'pricing dinámico' donde los precios de cada producto son ajustados diariamente, dentro de ciertas bandas."
      ],
      "metadata": {
        "id": "jUvJ0u1vDBiI"
      }
    },
    {
      "cell_type": "markdown",
      "source": [
        "#**Objetivos y estrategia de estimación**\n",
        "\n",
        "En este trabajo vamos a enfocarnos en predecir si, dadas las características cada observación o fila del dataset, se va a producir una venta o no.\n",
        "\n",
        "Recordemos que tenemos una variable llamada Order que toma valores 0 y 1, cuando order==1, la observación representa una venta, y cuando toma el valor 0 no se trata de una venta.\n",
        "\n",
        "Siendo que nuestra variable dependiente es categórica y toma valores 0 (no-venta) y 1 (venta) vamos a proponer un modelo de regresión logística.\n",
        "\n",
        "En otros trabajos el foco ha estado en predecir el revenue, y se ha demostrado en la segunda pre-entrega que el modelo de regresión lineal simple no es apropiado para nuestra estructura de datos, sólo como muestra, el r2 era de\n",
        "~0.5.\n",
        "\n",
        "Estimar la probabilidad de ventas, aparte de ser una pregunta de investigación importantísima en sí misma, puede funcionar como paso intermedio para estimar el revenue. Para ver por qué, recordemos que el revenue surge de las cantidades vendidas multiplicadas por el precio. El dataset contiene los precios, y la cantidad vendida en el set de testing se puede obtener construyendo una variable dividiendo revenue por precio, de modo que, si logramos predecir correctamente las ventas, podremos calcular el revenue.\n"
      ],
      "metadata": {
        "id": "2kzll2dYDScI"
      }
    },
    {
      "cell_type": "code",
      "source": [
        "# Importamos las liberías necesarias.\n",
        "from google.colab import drive\n",
        "import os\n",
        "\n",
        "import numpy as np\n",
        "import pandas as pd\n",
        "import matplotlib.pyplot as plt\n",
        "import matplotlib as mpl\n",
        "import seaborn as sns\n",
        "import sklearn\n",
        "from sklearn import metrics\n",
        "from sklearn.model_selection import train_test_split\n",
        "\n",
        "from sklearn.metrics import accuracy_score\n",
        "from sklearn.metrics import confusion_matrix\n",
        "from sklearn.metrics import precision_score\n",
        "\n",
        "\n",
        "\n",
        "drive.mount('/content/drive')\n",
        "%cd '/content/drive/MyDrive/Entregas/DB'"
      ],
      "metadata": {
        "id": "GFSRjSMbDqPV"
      },
      "execution_count": null,
      "outputs": []
    },
    {
      "cell_type": "code",
      "source": [
        "# importamos los archivos y los combinamos en un solo dataset llamado 'farmacia' a través de la variable product id.\n",
        "\n",
        "pricing_class=pd.read_csv(\"class.csv\", sep='|')\n",
        "pricing_items=pd.read_csv('items.csv', sep='|')\n",
        "pricing_train=pd.read_csv('train.csv', sep='|')\n",
        "\n",
        "dataset = pd.merge(pricing_train, pricing_items, on='pid');\n",
        "farmacia=pd.DataFrame(dataset)"
      ],
      "metadata": {
        "id": "f51HuHj_DxTg"
      },
      "execution_count": null,
      "outputs": []
    },
    {
      "cell_type": "code",
      "source": [
        "farmacia"
      ],
      "metadata": {
        "id": "piHgBJosDzu_"
      },
      "execution_count": null,
      "outputs": []
    },
    {
      "cell_type": "code",
      "source": [
        "farmacia.shape"
      ],
      "metadata": {
        "id": "LhwBdEBRD0fG"
      },
      "execution_count": null,
      "outputs": []
    },
    {
      "cell_type": "code",
      "source": [
        "farmacia.info"
      ],
      "metadata": {
        "id": "mpCV9D1_D2FF"
      },
      "execution_count": null,
      "outputs": []
    },
    {
      "cell_type": "code",
      "source": [
        "farmacia.describe(include='all')"
      ],
      "metadata": {
        "id": "xD9uI8seD4dG"
      },
      "execution_count": null,
      "outputs": []
    },
    {
      "cell_type": "code",
      "source": [
        "farmacia.dtypes"
      ],
      "metadata": {
        "id": "cffQDD2KD5iY"
      },
      "execution_count": null,
      "outputs": []
    },
    {
      "cell_type": "markdown",
      "source": [
        "#**Descripción de las variables:**\n",
        "\n",
        "**Vamos a proceder a describir verbalmente nuestras variables, cuando se trate de variables que no varían en el tiempo, se explicita en la descripción**\n",
        "\n",
        "**day**: el día que se registra, recordemos que tenemos datos 91 días de ventas y otras acciones de usuarios en el sitio web. El datatype es int.\n",
        "\n",
        "**pid**: El id del producto, como vimos, tenemos más de 22 mil productos. El datatype es int, los productos se identifican por un numero, no por su nombre. Es una variable invariante.\n",
        "\n",
        "**adFlag**: Nos indica si el producto en cuestión es objeto de una campaña publicitaria. El valor 1 indica que hubo capaña, y 0 indica que no la hubo.\n",
        "\n",
        "**availability**: Status de disponibilidad de los productos, toma los valores {1,2,3,4}\n",
        "\n",
        "**competitorPrice** : El precio de la competencia para un producto. Es un floating point.\n",
        "\n",
        "**click, basket, order**: Denotan acciones de los usuarios, si hicieron click en un producto, si lo colocaron en un carrito de compra (pero no necesariamente lo compraron), mientras que order indica si efectivamente el registro denota una compra. Las 4 variables toman los valores {0,1}, donde 1 denota acción (compra, carrito de compra, click) y el 0 la ausencia de acción.\n",
        "\n",
        "**price**: El precio efectivamente asociado a la observacion. Recordemos que la farmacia sigue una estrategia de 'pricing dinámico', los precios de cada producto se ajustan día a día. También es importante tener en cuenta que no se trata de precios customizados para clientes, los ajustes de precios son diarios y automáticos. Esto introduce una gran variabilidad en las observaciones que nos permitirá evaluar la influencia de los precios en las ventas, y es el insumo fundamental para predecir la demanda futura en función de como ajustemos nuestros precios. El precio es un floating point.\n",
        "\n",
        "**revenue**: Los ingresos por ventas. Es decir, el precio multiplicado por las cantidades compradas (que no observamos, solo observamos precios, compras (la variable 'order') y revenue). El revenue es un floating point.\n",
        "\n",
        "**manufacturer**: El fabricante de cada producto. Se identifica mediante un numero entero. Es invariante, al igual que el product id.\n",
        "\n",
        "**group**: El grupo de productos, combina letras y numeros. Es invariante.\n",
        "\n",
        "**content**: El contenido de un producto, se identifica bajo la nomenclatura numeroXnumero, por caso: 5X10. Es invariante.\n",
        "\n",
        "**unit**: La unidad del producto, es un string de mayúsculas.Es invariante.\n",
        "\n",
        "**pharmForm**: La dosis: son 3 letras mayúsculas. Es invariante.\n",
        "\n",
        "**genericProduct**: Si se trata de un medicamento generico, toma los valores {0,1}, el 1 indica que se trata de un medicamento genérico. Es invariante.\n",
        "\n",
        "**salesIndex**: un código de dispensión de medicamentos de Estados unidos. Es un entero. Es invariante.\n",
        "\n",
        "**category**: categoría de negocio: es un numero de negocio. Es invariante.\n",
        "\n",
        "**campaignIndex**: Tipo de campaña publicitaria de que fue objeto el producto, toma los valores {A,B,C}\n",
        "\n",
        "**rrp**: El precio de referencia, recordemos que la farmacia ajusta los precios de cada producto diariamente, pero cada item tiene un precio de referencia, más adelante vamos a graficar algunos ejemplos. Es invariante, la variabilidad está en los precios efectivos."
      ],
      "metadata": {
        "id": "nxybtYAND-1g"
      }
    },
    {
      "cell_type": "markdown",
      "source": [
        "#**Módulo de Limpieza de datos**"
      ],
      "metadata": {
        "id": "FJdEGfCHEENZ"
      }
    },
    {
      "cell_type": "markdown",
      "source": [
        "##**Tratamiento de Missing Values**\n",
        "\n",
        "En primer lugar, vemos cuantos datos nos faltan por columna, y proponemos las siguientes soluciones para aquellas variables donde identificamos missing values:\n",
        "\n",
        "Para competitor price vamos a reemplazar los missing values por la mediana del precio por cada producto, no en general, en caso de no disponer de un precio para algún producto, se reemplaza por la mediana de la variable en el dataset completo.\n",
        "\n",
        "para pharmForm, al menos por ahora, vamos a reemplazar por el valor más frecuente, a nivel de producto y no en el agregado. No se pueden usar medidas como media o mediana porque no es una variable numérica.\n",
        "\n",
        "Para category usamos el mismo procedimiento que para pharmForm, con las mismas consideraciones.\n",
        "\n",
        "Para campaing index, que en el dataset toma los valores {A,B,C}, e indica el tipo de campaña publicitaria que se llevó a cabo, tenemos 2 tipos de tratamiento, dado que es dependiente de adFlag, solo cuando adFlag es igual a 1 hay campaña publicitaria, de modo que si adFlag==0, reemplazamos por \"D\", que es una manera de indicar que no hay campaña publicitaria, mientras que para los casos en que adFlag==1 reemplazamos por la moda o valor más repetido a nivel de producto."
      ],
      "metadata": {
        "id": "WLvFzwHUEPkK"
      }
    },
    {
      "cell_type": "code",
      "source": [
        "datos_faltantes = farmacia.isnull().sum()\n",
        "print(\"Datos faltantes por columna: \" , datos_faltantes)"
      ],
      "metadata": {
        "id": "WZ7FX8mxET_7"
      },
      "execution_count": null,
      "outputs": []
    },
    {
      "cell_type": "markdown",
      "source": [
        "Reemplazo de missing values para la variable competitorPrice, si a nivel de producto no hay una mediana, se reemplaza por la mediana de la columna en general."
      ],
      "metadata": {
        "id": "vLNMd0jLEW1Y"
      }
    },
    {
      "cell_type": "code",
      "source": [
        "medianas_faltantes = farmacia.groupby('pid')['competitorPrice'].transform('median') # recordemos que pid es 'Product Id', por eso hacemos el reemplazo a ese nivel.\n",
        "\n",
        "farmacia['competitorPrice'] = farmacia['competitorPrice'].fillna(medianas_faltantes)\n",
        "\n",
        "# En los casos no capturados por las lineas anteriores reemplazamos por la mediana general de la variable:\n",
        "mediana_competitorPrice = farmacia['competitorPrice'].median()\n",
        "\n",
        "farmacia['competitorPrice'] = farmacia['competitorPrice'].fillna(mediana_competitorPrice)"
      ],
      "metadata": {
        "id": "HHYig3_LEXkP"
      },
      "execution_count": null,
      "outputs": []
    },
    {
      "cell_type": "markdown",
      "source": [
        "Reemplazo de missing values para las variables pharmForm y category, estamos usando el valor más frecuente, por eso la función hace referencia a la moda (\"mode\")"
      ],
      "metadata": {
        "id": "ufT1mOjsEbXg"
      }
    },
    {
      "cell_type": "code",
      "source": [
        "def completar_pharmform(series):\n",
        "    if series.mode().empty:\n",
        "        return series\n",
        "    else:\n",
        "        moda_pharmForm = series.mode().iloc[0]\n",
        "        return series.fillna(moda_pharmForm)\n",
        "\n",
        "farmacia['pharmForm'] = farmacia.groupby('pid')['pharmForm'].transform(completar_pharmform)\n",
        "\n",
        "farmacia['pharmForm'].fillna('default_value', inplace=True) # esta ultima linea de codigo es para reemplazar missing values en casos no capturados por la funcion anterior."
      ],
      "metadata": {
        "id": "nx3H47yMEcz3"
      },
      "execution_count": null,
      "outputs": []
    },
    {
      "cell_type": "code",
      "source": [
        "def completar_category(series):\n",
        "    if series.mode().empty:\n",
        "        return series\n",
        "    else:\n",
        "        moda_category = series.mode().iloc[0]\n",
        "        return series.fillna(moda_category)\n",
        "\n",
        "farmacia['category'] = farmacia.groupby('pid')['category'].transform(completar_category)\n",
        "\n",
        "farmacia['category'].fillna('default_value', inplace=True) # esta ultima linea de codigo es para reemplazar missing values en casos no capturados por la funcion anterior.\n",
        "\n"
      ],
      "metadata": {
        "id": "F2bhO1HgEeSx"
      },
      "execution_count": null,
      "outputs": []
    },
    {
      "cell_type": "markdown",
      "source": [
        "Reemplazo de missing values para campaignIndex, recordemos el metodo:\n",
        "tenemos 2 tipos de tratamiento, dado que es dependiente de adFlag, solo cuando adFlag es igual a 1 hay campaña publicitaria, de modo que si adFlag==0, reemplazamos por \"D\" (ya que las campañas son {A,B,C}, y de esta forma con la \"D\" podemos identificar rápidamente que no hay campaña) para los casos en que adFlag==1 reemplazamos por la moda o valor más repetido a nivel de producto.  "
      ],
      "metadata": {
        "id": "2ib-k_GGEgYO"
      }
    },
    {
      "cell_type": "code",
      "source": [
        "farmacia['campaignIndex'].fillna('D', inplace=True)\n",
        "\n",
        "mask = (farmacia['adFlag'] == 1) & (farmacia['campaignIndex'].isna())\n",
        "farmacia.loc[mask, 'campaignIndex'] = farmacia[mask].groupby('pid')['campaignIndex'].transform(lambda x: x.mode().iloc[0])\n",
        "\n",
        "farmacia['campaignIndex'].fillna('default_value', inplace=True) # esta ultima linea de codigo es para reemplazar missing values en casos no capturados por la funcion anterior.\n"
      ],
      "metadata": {
        "id": "7XMvis-UEhyi"
      },
      "execution_count": null,
      "outputs": []
    },
    {
      "cell_type": "markdown",
      "source": [
        "Ahora constatamos que ya no tenemos más missing values:\n",
        "\n"
      ],
      "metadata": {
        "id": "F8Jh7crNEjsW"
      }
    },
    {
      "cell_type": "code",
      "source": [
        "datos_faltantes = farmacia.isnull().sum()\n",
        "print(\"Datos faltantes por columna: \" , datos_faltantes)\n"
      ],
      "metadata": {
        "id": "mm38dA54Ek5_"
      },
      "execution_count": null,
      "outputs": []
    },
    {
      "cell_type": "markdown",
      "source": [
        "##**Encoding de Variables Categoricas**"
      ],
      "metadata": {
        "id": "RgdTZKnJ9oEf"
      }
    },
    {
      "cell_type": "markdown",
      "source": [
        "Repasemos nuestras variable categóricas y sus valores unicos para saber si son factibles de aplicar encoding."
      ],
      "metadata": {
        "id": "-FQl5_gh9uqN"
      }
    },
    {
      "cell_type": "code",
      "source": [
        "farmacia.describe(include='object')"
      ],
      "metadata": {
        "id": "qmFQrZ1sLm4_"
      },
      "execution_count": null,
      "outputs": []
    },
    {
      "cell_type": "markdown",
      "source": [
        "Como vemos, tenemos 6 variables que quedemos congertir a dummies para poder usar como variables explicativas de un modelo. Como se puede observar, algunas de las variables tienen varios cientos de valores únicos, lo cual consume la totalidad de la memoria de esta versión de Colab. Vamos a limitar el encoding a las variables unit y campaignIndex.\n",
        "\n",
        "En el caso de la variable group, recordemos que se trata de agrupamientos de productos, para los cuales tenemos la variable pid (product ID), de modo que no estariamos perdiendo informacion al excluirla de un modelo, si incluimos el product id.\n",
        "\n",
        "\n",
        "Para ello usamos el metodo get_dummies"
      ],
      "metadata": {
        "id": "5CoSzaZ4APRg"
      }
    },
    {
      "cell_type": "code",
      "source": [
        "dummies = pd.DataFrame(pd.get_dummies(farmacia[['unit', 'campaignIndex']]))"
      ],
      "metadata": {
        "id": "asfmAS6i-c68"
      },
      "execution_count": null,
      "outputs": []
    },
    {
      "cell_type": "code",
      "source": [
        "dummies.dtypes"
      ],
      "metadata": {
        "id": "Z1vKeF39-nHK"
      },
      "execution_count": null,
      "outputs": []
    },
    {
      "cell_type": "code",
      "source": [
        "dummies"
      ],
      "metadata": {
        "id": "3P0oneZc-_Mw"
      },
      "execution_count": null,
      "outputs": []
    },
    {
      "cell_type": "code",
      "source": [
        "farmacia_final = pd.concat([farmacia, dummies], axis=1) #creamos un dataset que sea nuestras variables originales y las dummies."
      ],
      "metadata": {
        "id": "T43eGCRYB3QL"
      },
      "execution_count": null,
      "outputs": []
    },
    {
      "cell_type": "code",
      "source": [
        "farmacia_final"
      ],
      "metadata": {
        "id": "OhU8uOyYDCYu"
      },
      "execution_count": null,
      "outputs": []
    },
    {
      "cell_type": "code",
      "source": [
        "farmacia_final.dtypes"
      ],
      "metadata": {
        "id": "MsW2dLNREpK1"
      },
      "execution_count": null,
      "outputs": []
    },
    {
      "cell_type": "code",
      "source": [
        "farmacia_final.shape # Nos queda un dataset donde no tenemos pérdida de filas, e incrementamos nuestros features a 33."
      ],
      "metadata": {
        "id": "Y7dv4z-OEvak"
      },
      "execution_count": null,
      "outputs": []
    },
    {
      "cell_type": "markdown",
      "source": [
        "#**Cambio de escala de variables numéricas continuas**\n",
        "\n",
        "En esta sección vamos a usar el módulo scaler de scikit-learn para modificar la escala de un conjunto de variables numéricas continuas, no categóricas.\n",
        "\n",
        "En concreto, vamos a re-escalar los precios (price), precios de referencia (rrp), precios de la competencia y revenue."
      ],
      "metadata": {
        "id": "9QRIexQO5Q7W"
      }
    },
    {
      "cell_type": "code",
      "source": [
        "from sklearn.preprocessing import StandardScaler"
      ],
      "metadata": {
        "id": "I7S1FtQV58xJ"
      },
      "execution_count": null,
      "outputs": []
    },
    {
      "cell_type": "code",
      "source": [
        "variables_re_escaladas = [\"revenue\", \"price\", \"rrp\" , \"competitorPrice\"] # las 4 variables que vamos a re-escalar.\n",
        "\n",
        "scaler = StandardScaler() #creamos un objeto que sea el Scaler de sklearn.\n",
        "\n",
        "columnas_re_escaladas = scaler.fit_transform(farmacia_final[variables_re_escaladas]) #Aplicamos (\"fiteamos\") el scaler a nuestro set de variables de interés\n",
        "\n",
        "dataset_re_escalado = pd.DataFrame(columnas_re_escaladas, columns=variables_re_escaladas) # Se genera un dataset con nuevas escalas para nuestras variables de interés\n",
        "\n",
        "variables_no_re_escaladas = farmacia_final.drop(columns=variables_re_escaladas) # las restantes columnas del dataset\n",
        "\n",
        "farmacia_re_escalada = pd.concat([dataset_re_escalado, variables_no_re_escaladas], axis=1) # Concatenamos las variables con cambio de escala con el resto.\n"
      ],
      "metadata": {
        "id": "n1rV1RzZ5vCb"
      },
      "execution_count": null,
      "outputs": []
    },
    {
      "cell_type": "code",
      "source": [
        "farmacia_re_escalada"
      ],
      "metadata": {
        "id": "qGE34cX-6prR"
      },
      "execution_count": null,
      "outputs": []
    },
    {
      "cell_type": "markdown",
      "source": [
        "#**Regresión Logistica**"
      ],
      "metadata": {
        "id": "Tg6_sX6uYUd7"
      }
    },
    {
      "cell_type": "markdown",
      "source": [
        "##**Preparación del modelo**\n",
        "\n",
        "Seleccionamos nuestra variable dependiente **order** y excluimos las variables categoricas que encodeamos para no generar duplicaciones.\n",
        "\n",
        "Tambien voy a excluir el revenue como regresor, recordemos, estoy tratando de predecir si una línea va a derivar en una venta en funcion de sus caracteristicas, y el revenue por definición es precio por cantidad vendida cuando hay ventas, entonces, el revenue tiene lugar después que un cliente decide una compra, no puede ser nunca una variable explicativa de las ventas.\n",
        "\n",
        "Tambien eliminamos lineID como variable independiente, no tiene valor explicativo"
      ],
      "metadata": {
        "id": "_EBUusgRYXsU"
      }
    },
    {
      "cell_type": "code",
      "source": [
        "X = farmacia_re_escalada.drop([ 'lineID', 'order' , 'group', 'content', 'unit', 'category','campaignIndex', 'pharmForm' , 'revenue' ], axis=1)\n",
        "\n",
        "y = farmacia_re_escalada['order']"
      ],
      "metadata": {
        "id": "ZUZeeNaCYf-b"
      },
      "execution_count": null,
      "outputs": []
    },
    {
      "cell_type": "code",
      "source": [
        "print(X.dtypes) #volvemos a chequear que nuestras variables explicativas no son strings"
      ],
      "metadata": {
        "id": "1-UCy6MhYl81"
      },
      "execution_count": null,
      "outputs": []
    },
    {
      "cell_type": "code",
      "source": [
        "#Dividimos el dataset en train y test subsets, dejamos el 20% para testing.\n",
        "\n",
        "X_train, X_test, y_train, y_test = train_test_split(X, y, test_size=0.2, random_state=1)"
      ],
      "metadata": {
        "id": "vgSWYS5zYnTE"
      },
      "execution_count": null,
      "outputs": []
    },
    {
      "cell_type": "markdown",
      "source": [
        "##**Implementamos el modelo**"
      ],
      "metadata": {
        "id": "KMqf6j9DDzZ0"
      }
    },
    {
      "cell_type": "code",
      "source": [
        "from sklearn.linear_model import LogisticRegression"
      ],
      "metadata": {
        "id": "xysKrkzIZSZ7"
      },
      "execution_count": null,
      "outputs": []
    },
    {
      "cell_type": "code",
      "source": [
        "reg_logistica = LogisticRegression()\n",
        "reg_logistica.fit(X_train, y_train)"
      ],
      "metadata": {
        "id": "JWpLNJbgZUpY"
      },
      "execution_count": null,
      "outputs": []
    },
    {
      "cell_type": "markdown",
      "source": [
        "##**Obtenemos y graficamos las predicciones del modelo y distintas medidas de accuracy**"
      ],
      "metadata": {
        "id": "AlP_VmjNZpRj"
      }
    },
    {
      "cell_type": "code",
      "source": [
        "y_pred = reg_logistica.predict(X_test) # dejamos que el modelo predica los valores en el testing set."
      ],
      "metadata": {
        "id": "XEdf-CMrZfax"
      },
      "execution_count": null,
      "outputs": []
    },
    {
      "cell_type": "code",
      "source": [
        "accuracy = accuracy_score(y_test, y_pred)\n",
        "print(f\"Accuracy del modelo:\", f'{accuracy:.3f}')"
      ],
      "metadata": {
        "id": "4c3XUuLAZ2fn"
      },
      "execution_count": null,
      "outputs": []
    },
    {
      "cell_type": "markdown",
      "source": [
        "Un accuracy del 90% es alentador, si bien no es una métrica directamente comparable comparable con el r2, recordemos de entregas anteriores que un modelo de regresión lineal redundaba en un r2 de apenas 0.5.\n",
        "\n",
        "También debo aclarar que el re-escalamiento de variables ha redundado en una mejora del accuracy de 20 puntos, no se muestran los resultados de una regresión sin scaling para no saturar el notebook."
      ],
      "metadata": {
        "id": "KLuNSPhOD4Ul"
      }
    },
    {
      "cell_type": "code",
      "source": [
        "matriz_confusion = confusion_matrix(y_test, y_pred)\n",
        "print(\"Matriz de confusión:\\n\", matriz_confusion)"
      ],
      "metadata": {
        "id": "pysmsnTOaCke"
      },
      "execution_count": null,
      "outputs": []
    },
    {
      "cell_type": "markdown",
      "source": [
        "La matriz de confusión nos muestra que:\n",
        "\n",
        "> Predecimos correctamente 103.115 ventas e incorrectamente 16.384, es decir, de un total de 119.499 ventas (order==1) en el testing set, el modelo predice correctamente el 86.2%\n",
        "\n",
        "> El modelo es aún más exitoso para predecir no-ventas, la primera columna de la matrix indica que podemos predecir el 91% de los \"True Negatives\", 393.925 observaciones sobre un total de 431.702 no-ventas."
      ],
      "metadata": {
        "id": "ZaKi1icFEXDT"
      }
    },
    {
      "cell_type": "code",
      "source": [
        "#Buscamos los coeficientes de la regresión y sus p-values y -scores\n",
        "coeficientes = reg_logistica.coef_[0]\n",
        "z_scores = reg_logistica.coef_[0] / np.std(X_train, axis=0)\n",
        "p_values = np.abs(reg_logistica.coef_[0]) / np.std(X_train, axis=0)"
      ],
      "metadata": {
        "id": "qAiy02U7aPgF"
      },
      "execution_count": null,
      "outputs": []
    },
    {
      "cell_type": "code",
      "source": [
        "#Armamos una tabla para mostrar los coeficientes y su significatividad\n",
        "\n",
        "regresores = X.columns\n",
        "resultados = pd.DataFrame({'Coeficientes': coeficientes, 'Z-Scores': z_scores, 'P-Value': p_values})\n",
        "\n",
        "print(\"Coeficientes, z_scores, y p_values del modelo :\\n\\n\", resultados)\n"
      ],
      "metadata": {
        "id": "lGiScJ95afJT"
      },
      "execution_count": null,
      "outputs": []
    },
    {
      "cell_type": "markdown",
      "source": [
        "Del análisis de los coeficientes de la regresión quiero destacar lo siguiente:\n",
        "\n",
        "> La relación negativa de precios, precios de la competencia y precios de referencia. Aunque debemos notar que el precio de referencia no es muy significativo con un z-score de 1.19.\n",
        "\n",
        "> El valor positivo de adFlag, recordemos que adFlag==1 indica que un producto fue objeto de una campañana publicitaria, y esto parece influir las probabilidades de venta.\n",
        "\n",
        "> Sigueindo con las campañas publicitarias, las campañas A y D parecen tener una relación positiva con la probabilidad de ventas, mientras que la B y la C son negativas en este modelo."
      ],
      "metadata": {
        "id": "z0ygCRT6Fdoo"
      }
    },
    {
      "cell_type": "code",
      "source": [
        "#Graficamos los valores predichos por el modelo y los valores efectivos de la variable dependiente en el testing set.\n",
        "\n",
        "plt.figure(figsize=(7, 4))\n",
        "plt.hist(y_test, alpha=0.5, color='blue', label='Valor efectivo de la variable dependiente')\n",
        "plt.hist(y_pred,  alpha=0.5, color='red', label='Valores predichos por el modelo')\n",
        "plt.xlabel('Class')\n",
        "plt.ylabel('Frecuencias')\n",
        "plt.title('Distribución de valores estimados por el modelo vs los efectivos en el testing set')\n",
        "plt.legend()\n",
        "plt.show()"
      ],
      "metadata": {
        "id": "yOFY-Ke6dCq5"
      },
      "execution_count": null,
      "outputs": []
    },
    {
      "cell_type": "markdown",
      "source": [
        "El gráfico confirma lo que se observaba en la matrix de confusión donde la mayoría, pero no la totalidad, de las observaciones del testing set son correctametne predichos por el modelo."
      ],
      "metadata": {
        "id": "q6rcfeTCGYkw"
      }
    }
  ]
}